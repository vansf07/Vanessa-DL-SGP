{
  "nbformat": 4,
  "nbformat_minor": 0,
  "metadata": {
    "colab": {
      "name": "DL_SGP_WEEK2.ipynb",
      "provenance": [],
      "collapsed_sections": [],
      "include_colab_link": true
    },
    "kernelspec": {
      "name": "python3",
      "display_name": "Python 3"
    },
    "language_info": {
      "name": "python"
    }
  },
  "cells": [
    {
      "cell_type": "markdown",
      "metadata": {
        "id": "view-in-github",
        "colab_type": "text"
      },
      "source": [
        "<a href=\"https://colab.research.google.com/github/vansf07/Vanessa-DL-SGP/blob/main/DL_SGP_WEEK2.ipynb\" target=\"_parent\"><img src=\"https://colab.research.google.com/assets/colab-badge.svg\" alt=\"Open In Colab\"/></a>"
      ]
    },
    {
      "cell_type": "code",
      "metadata": {
        "id": "XuZbgWonnGeE",
        "colab": {
          "base_uri": "https://localhost:8080/"
        },
        "outputId": "1ab611c2-64d7-48ce-be64-b20e70bbf951"
      },
      "source": [
        "from google.colab import drive\n",
        "drive.mount('/content/drive')\n",
        "%cd /content/drive/My Drive/ISTE SGP DL 2021 WEEK-1 Assignment"
      ],
      "execution_count": 2,
      "outputs": [
        {
          "output_type": "stream",
          "text": [
            "Drive already mounted at /content/drive; to attempt to forcibly remount, call drive.mount(\"/content/drive\", force_remount=True).\n",
            "/content/drive/My Drive/ISTE SGP DL 2021 WEEK-1 Assignment\n"
          ],
          "name": "stdout"
        }
      ]
    },
    {
      "cell_type": "code",
      "metadata": {
        "id": "Omrb1QOhnHr3"
      },
      "source": [
        "import numpy as np\n",
        "import matplotlib.pyplot as plt\n",
        "import h5py\n",
        "import scipy\n",
        "from PIL import Image\n",
        "from scipy import ndimage\n",
        "from lr_utils import load_dataset     # for loading dataset\n",
        "\n",
        "%matplotlib inline"
      ],
      "execution_count": 3,
      "outputs": []
    },
    {
      "cell_type": "code",
      "metadata": {
        "id": "6CxjH4JQnNmM"
      },
      "source": [
        "# Loading the data (cat/non-cat)\n",
        "train_set_x, train_set_y, test_set_x, test_set_y, classes = load_dataset()"
      ],
      "execution_count": 4,
      "outputs": []
    },
    {
      "cell_type": "code",
      "metadata": {
        "id": "qiMVrOQlnORV"
      },
      "source": [
        "#New libraries needed\n",
        "import tensorflow as tf\n",
        "from tensorflow import keras"
      ],
      "execution_count": 5,
      "outputs": []
    },
    {
      "cell_type": "code",
      "metadata": {
        "id": "p9tcp4hancCl"
      },
      "source": [
        "#Normalization \n",
        "train_set_x=train_set_x/255\n",
        "test_set_x=test_set_x/255"
      ],
      "execution_count": 6,
      "outputs": []
    },
    {
      "cell_type": "code",
      "metadata": {
        "colab": {
          "base_uri": "https://localhost:8080/"
        },
        "id": "mESTZ6ZXU14o",
        "outputId": "972b80ed-4e21-452e-e9d1-11e586850591"
      },
      "source": [
        "print(train_set_x.shape, train_set_y.shape)"
      ],
      "execution_count": 7,
      "outputs": [
        {
          "output_type": "stream",
          "text": [
            "(209, 64, 64, 3) (1, 209)\n"
          ],
          "name": "stdout"
        }
      ]
    },
    {
      "cell_type": "code",
      "metadata": {
        "id": "fUiYzfdypi1Q",
        "colab": {
          "base_uri": "https://localhost:8080/"
        },
        "outputId": "196b09ee-fa42-430f-a5bf-5557ea39372a"
      },
      "source": [
        "model=keras.Sequential([\n",
        "                        keras.layers.Flatten(), #Here we are feeding our input image into the neural network, one parameter only\n",
        "                        keras.layers.Dense(12288, activation=\"relu\"),\n",
        "                        keras.layers.Dropout(0.2),\n",
        "                        keras.layers.Dense(32*32, activation=\"relu\"),\n",
        "                        keras.layers.Dense(150, activation=\"relu\"),\n",
        "                        keras.layers.Dense(1, activation=\"sigmoid\") #Here you decide the number of output neurons you have, and the actovation function you'd be using for this last layer. \n",
        "                                                                    #The parameters to be entered are in the order mentioned above. It has two parameters\n",
        "])\n",
        "model.compile(optimizer='adam',loss='binary_crossentropy',metrics=['accuracy'])         \n",
        "model.fit(train_set_x,train_set_y.T,epochs=100) #Why is the train_set_y passed as it's transpose for the function\n",
        "                                                #Feel free to run the model for as many epochs as you'd like and see if you get better results\n",
        "model.evaluate(test_set_x,test_set_y.T)            #Expected accuracy is around 80%"
      ],
      "execution_count": 12,
      "outputs": [
        {
          "output_type": "stream",
          "text": [
            "Epoch 1/100\n",
            "7/7 [==============================] - 10s 917ms/step - loss: 19.3752 - accuracy: 0.5484\n",
            "Epoch 2/100\n",
            "7/7 [==============================] - 6s 908ms/step - loss: 25.0200 - accuracy: 0.5635\n",
            "Epoch 3/100\n",
            "7/7 [==============================] - 6s 912ms/step - loss: 4.7124 - accuracy: 0.5403\n",
            "Epoch 4/100\n",
            "7/7 [==============================] - 6s 907ms/step - loss: 1.4335 - accuracy: 0.4833\n",
            "Epoch 5/100\n",
            "7/7 [==============================] - 6s 906ms/step - loss: 0.7658 - accuracy: 0.5878\n",
            "Epoch 6/100\n",
            "7/7 [==============================] - 6s 904ms/step - loss: 0.6121 - accuracy: 0.6461\n",
            "Epoch 7/100\n",
            "7/7 [==============================] - 6s 900ms/step - loss: 0.6567 - accuracy: 0.6611\n",
            "Epoch 8/100\n",
            "7/7 [==============================] - 6s 912ms/step - loss: 0.7808 - accuracy: 0.6790\n",
            "Epoch 9/100\n",
            "7/7 [==============================] - 6s 902ms/step - loss: 0.5845 - accuracy: 0.7049\n",
            "Epoch 10/100\n",
            "7/7 [==============================] - 6s 915ms/step - loss: 0.5905 - accuracy: 0.6863\n",
            "Epoch 11/100\n",
            "7/7 [==============================] - 6s 914ms/step - loss: 0.6640 - accuracy: 0.6396\n",
            "Epoch 12/100\n",
            "7/7 [==============================] - 6s 917ms/step - loss: 0.5885 - accuracy: 0.7134\n",
            "Epoch 13/100\n",
            "7/7 [==============================] - 6s 912ms/step - loss: 0.5773 - accuracy: 0.7200\n",
            "Epoch 14/100\n",
            "7/7 [==============================] - 6s 899ms/step - loss: 0.5387 - accuracy: 0.7368\n",
            "Epoch 15/100\n",
            "7/7 [==============================] - 6s 906ms/step - loss: 0.4975 - accuracy: 0.7287\n",
            "Epoch 16/100\n",
            "7/7 [==============================] - 6s 902ms/step - loss: 0.4555 - accuracy: 0.8153\n",
            "Epoch 17/100\n",
            "7/7 [==============================] - 6s 912ms/step - loss: 0.4540 - accuracy: 0.7486\n",
            "Epoch 18/100\n",
            "7/7 [==============================] - 6s 906ms/step - loss: 0.4266 - accuracy: 0.7905\n",
            "Epoch 19/100\n",
            "7/7 [==============================] - 6s 902ms/step - loss: 0.4610 - accuracy: 0.7764\n",
            "Epoch 20/100\n",
            "7/7 [==============================] - 6s 901ms/step - loss: 0.4788 - accuracy: 0.7723\n",
            "Epoch 21/100\n",
            "7/7 [==============================] - 6s 911ms/step - loss: 0.3735 - accuracy: 0.8628\n",
            "Epoch 22/100\n",
            "7/7 [==============================] - 6s 908ms/step - loss: 0.4914 - accuracy: 0.7390\n",
            "Epoch 23/100\n",
            "7/7 [==============================] - 6s 905ms/step - loss: 0.3819 - accuracy: 0.8584\n",
            "Epoch 24/100\n",
            "7/7 [==============================] - 6s 905ms/step - loss: 0.2734 - accuracy: 0.8795\n",
            "Epoch 25/100\n",
            "7/7 [==============================] - 6s 910ms/step - loss: 0.2987 - accuracy: 0.8686\n",
            "Epoch 26/100\n",
            "7/7 [==============================] - 6s 904ms/step - loss: 0.2374 - accuracy: 0.9057\n",
            "Epoch 27/100\n",
            "7/7 [==============================] - 6s 905ms/step - loss: 0.3491 - accuracy: 0.8553\n",
            "Epoch 28/100\n",
            "7/7 [==============================] - 6s 908ms/step - loss: 0.4471 - accuracy: 0.7882\n",
            "Epoch 29/100\n",
            "7/7 [==============================] - 7s 1s/step - loss: 0.2330 - accuracy: 0.9058\n",
            "Epoch 30/100\n",
            "7/7 [==============================] - 6s 909ms/step - loss: 0.1968 - accuracy: 0.9077\n",
            "Epoch 31/100\n",
            "7/7 [==============================] - 6s 909ms/step - loss: 0.3407 - accuracy: 0.8395\n",
            "Epoch 32/100\n",
            "7/7 [==============================] - 6s 905ms/step - loss: 0.2614 - accuracy: 0.9082\n",
            "Epoch 33/100\n",
            "7/7 [==============================] - 6s 905ms/step - loss: 0.2305 - accuracy: 0.8861\n",
            "Epoch 34/100\n",
            "7/7 [==============================] - 6s 904ms/step - loss: 0.2501 - accuracy: 0.9026\n",
            "Epoch 35/100\n",
            "7/7 [==============================] - 6s 910ms/step - loss: 0.2762 - accuracy: 0.8473\n",
            "Epoch 36/100\n",
            "7/7 [==============================] - 6s 904ms/step - loss: 0.2374 - accuracy: 0.8700\n",
            "Epoch 37/100\n",
            "7/7 [==============================] - 6s 905ms/step - loss: 0.2118 - accuracy: 0.9049\n",
            "Epoch 38/100\n",
            "7/7 [==============================] - 6s 906ms/step - loss: 0.1497 - accuracy: 0.9407\n",
            "Epoch 39/100\n",
            "7/7 [==============================] - 6s 908ms/step - loss: 0.2153 - accuracy: 0.8950\n",
            "Epoch 40/100\n",
            "7/7 [==============================] - 6s 911ms/step - loss: 0.1163 - accuracy: 0.9672\n",
            "Epoch 41/100\n",
            "7/7 [==============================] - 6s 907ms/step - loss: 0.1108 - accuracy: 0.9542\n",
            "Epoch 42/100\n",
            "7/7 [==============================] - 6s 909ms/step - loss: 0.0970 - accuracy: 0.9699\n",
            "Epoch 43/100\n",
            "7/7 [==============================] - 6s 908ms/step - loss: 0.0781 - accuracy: 0.9647\n",
            "Epoch 44/100\n",
            "7/7 [==============================] - 6s 906ms/step - loss: 0.3910 - accuracy: 0.8555\n",
            "Epoch 45/100\n",
            "7/7 [==============================] - 6s 911ms/step - loss: 0.1702 - accuracy: 0.9216\n",
            "Epoch 46/100\n",
            "7/7 [==============================] - 6s 907ms/step - loss: 0.1969 - accuracy: 0.9195\n",
            "Epoch 47/100\n",
            "7/7 [==============================] - 6s 910ms/step - loss: 0.1766 - accuracy: 0.9314\n",
            "Epoch 48/100\n",
            "7/7 [==============================] - 6s 913ms/step - loss: 0.1931 - accuracy: 0.9181\n",
            "Epoch 49/100\n",
            "7/7 [==============================] - 6s 909ms/step - loss: 0.2433 - accuracy: 0.9015\n",
            "Epoch 50/100\n",
            "7/7 [==============================] - 6s 908ms/step - loss: 0.1823 - accuracy: 0.9325\n",
            "Epoch 51/100\n",
            "7/7 [==============================] - 6s 907ms/step - loss: 0.2685 - accuracy: 0.9159\n",
            "Epoch 52/100\n",
            "7/7 [==============================] - 6s 906ms/step - loss: 0.1222 - accuracy: 0.9588\n",
            "Epoch 53/100\n",
            "7/7 [==============================] - 6s 909ms/step - loss: 0.0852 - accuracy: 0.9621\n",
            "Epoch 54/100\n",
            "7/7 [==============================] - 6s 904ms/step - loss: 0.0856 - accuracy: 0.9606\n",
            "Epoch 55/100\n",
            "7/7 [==============================] - 6s 913ms/step - loss: 0.1403 - accuracy: 0.9476\n",
            "Epoch 56/100\n",
            "7/7 [==============================] - 6s 910ms/step - loss: 0.1189 - accuracy: 0.9498\n",
            "Epoch 57/100\n",
            "7/7 [==============================] - 6s 900ms/step - loss: 0.0616 - accuracy: 0.9794\n",
            "Epoch 58/100\n",
            "7/7 [==============================] - 6s 908ms/step - loss: 0.9184 - accuracy: 0.7925\n",
            "Epoch 59/100\n",
            "7/7 [==============================] - 6s 906ms/step - loss: 0.3414 - accuracy: 0.8571\n",
            "Epoch 60/100\n",
            "7/7 [==============================] - 6s 912ms/step - loss: 0.2114 - accuracy: 0.9102\n",
            "Epoch 61/100\n",
            "7/7 [==============================] - 6s 910ms/step - loss: 0.1890 - accuracy: 0.8963\n",
            "Epoch 62/100\n",
            "7/7 [==============================] - 6s 907ms/step - loss: 0.0823 - accuracy: 0.9823\n",
            "Epoch 63/100\n",
            "7/7 [==============================] - 6s 915ms/step - loss: 0.1252 - accuracy: 0.9388\n",
            "Epoch 64/100\n",
            "7/7 [==============================] - 6s 913ms/step - loss: 0.0500 - accuracy: 0.9892\n",
            "Epoch 65/100\n",
            "7/7 [==============================] - 6s 906ms/step - loss: 0.0931 - accuracy: 0.9627\n",
            "Epoch 66/100\n",
            "7/7 [==============================] - 6s 916ms/step - loss: 0.2363 - accuracy: 0.9134\n",
            "Epoch 67/100\n",
            "7/7 [==============================] - 6s 924ms/step - loss: 0.1589 - accuracy: 0.9498\n",
            "Epoch 68/100\n",
            "7/7 [==============================] - 6s 918ms/step - loss: 0.0529 - accuracy: 0.9907\n",
            "Epoch 69/100\n",
            "7/7 [==============================] - 6s 913ms/step - loss: 0.1762 - accuracy: 0.9313\n",
            "Epoch 70/100\n",
            "7/7 [==============================] - 6s 904ms/step - loss: 0.0928 - accuracy: 0.9570\n",
            "Epoch 71/100\n",
            "7/7 [==============================] - 6s 909ms/step - loss: 0.1028 - accuracy: 0.9574\n",
            "Epoch 72/100\n",
            "7/7 [==============================] - 6s 905ms/step - loss: 0.0784 - accuracy: 0.9824\n",
            "Epoch 73/100\n",
            "7/7 [==============================] - 6s 910ms/step - loss: 0.1291 - accuracy: 0.9635\n",
            "Epoch 74/100\n",
            "7/7 [==============================] - 6s 904ms/step - loss: 0.0827 - accuracy: 0.9579\n",
            "Epoch 75/100\n",
            "7/7 [==============================] - 6s 912ms/step - loss: 0.0689 - accuracy: 0.9718\n",
            "Epoch 76/100\n",
            "7/7 [==============================] - 6s 908ms/step - loss: 0.0743 - accuracy: 0.9715\n",
            "Epoch 77/100\n",
            "7/7 [==============================] - 6s 910ms/step - loss: 0.1806 - accuracy: 0.9247\n",
            "Epoch 78/100\n",
            "7/7 [==============================] - 6s 913ms/step - loss: 0.1404 - accuracy: 0.9289\n",
            "Epoch 79/100\n",
            "7/7 [==============================] - 6s 907ms/step - loss: 0.0792 - accuracy: 0.9694\n",
            "Epoch 80/100\n",
            "7/7 [==============================] - 6s 905ms/step - loss: 0.0597 - accuracy: 0.9842\n",
            "Epoch 81/100\n",
            "7/7 [==============================] - 6s 906ms/step - loss: 0.1275 - accuracy: 0.9641\n",
            "Epoch 82/100\n",
            "7/7 [==============================] - 6s 904ms/step - loss: 0.1044 - accuracy: 0.9704\n",
            "Epoch 83/100\n",
            "7/7 [==============================] - 6s 914ms/step - loss: 0.1375 - accuracy: 0.9581\n",
            "Epoch 84/100\n",
            "7/7 [==============================] - 6s 909ms/step - loss: 0.3423 - accuracy: 0.8729\n",
            "Epoch 85/100\n",
            "7/7 [==============================] - 6s 902ms/step - loss: 0.1418 - accuracy: 0.9424\n",
            "Epoch 86/100\n",
            "7/7 [==============================] - 6s 916ms/step - loss: 0.2506 - accuracy: 0.8676\n",
            "Epoch 87/100\n",
            "7/7 [==============================] - 6s 914ms/step - loss: 0.1490 - accuracy: 0.9233\n",
            "Epoch 88/100\n",
            "7/7 [==============================] - 6s 911ms/step - loss: 0.1470 - accuracy: 0.9423\n",
            "Epoch 89/100\n",
            "7/7 [==============================] - 6s 908ms/step - loss: 0.1705 - accuracy: 0.9225\n",
            "Epoch 90/100\n",
            "7/7 [==============================] - 6s 918ms/step - loss: 0.0384 - accuracy: 0.9893\n",
            "Epoch 91/100\n",
            "7/7 [==============================] - 6s 916ms/step - loss: 0.1646 - accuracy: 0.9461\n",
            "Epoch 92/100\n",
            "7/7 [==============================] - 6s 917ms/step - loss: 0.0868 - accuracy: 0.9754\n",
            "Epoch 93/100\n",
            "7/7 [==============================] - 6s 912ms/step - loss: 0.1296 - accuracy: 0.9456\n",
            "Epoch 94/100\n",
            "7/7 [==============================] - 6s 918ms/step - loss: 0.0995 - accuracy: 0.9607\n",
            "Epoch 95/100\n",
            "7/7 [==============================] - 6s 909ms/step - loss: 0.0922 - accuracy: 0.9554\n",
            "Epoch 96/100\n",
            "7/7 [==============================] - 6s 914ms/step - loss: 0.0876 - accuracy: 0.9735\n",
            "Epoch 97/100\n",
            "7/7 [==============================] - 6s 918ms/step - loss: 0.1102 - accuracy: 0.9605\n",
            "Epoch 98/100\n",
            "7/7 [==============================] - 6s 915ms/step - loss: 0.1002 - accuracy: 0.9478\n",
            "Epoch 99/100\n",
            "7/7 [==============================] - 6s 910ms/step - loss: 0.0839 - accuracy: 0.9611\n",
            "Epoch 100/100\n",
            "7/7 [==============================] - 6s 910ms/step - loss: 0.1625 - accuracy: 0.9297\n",
            "2/2 [==============================] - 1s 202ms/step - loss: 1.5256 - accuracy: 0.8000\n"
          ],
          "name": "stdout"
        },
        {
          "output_type": "execute_result",
          "data": {
            "text/plain": [
              "[1.525551199913025, 0.800000011920929]"
            ]
          },
          "metadata": {
            "tags": []
          },
          "execution_count": 12
        }
      ]
    },
    {
      "cell_type": "code",
      "metadata": {
        "id": "670oI_5U9Zj2"
      },
      "source": [
        "#Couple of things you could try after evaluating the model: Try overfitting the model, by training for more number of epochs\n",
        "                                                        #.  Implement a keras.dropout() and see if your models accuracy improves\n",
        "                                                        #.  You can even add more number of dense layers and see how your model reacts."
      ],
      "execution_count": 9,
      "outputs": []
    }
  ]
}